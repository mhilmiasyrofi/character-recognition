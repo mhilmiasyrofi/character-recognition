{
 "cells": [
  {
   "cell_type": "markdown",
   "metadata": {},
   "source": [
    "# Text Augmentation"
   ]
  },
  {
   "cell_type": "markdown",
   "metadata": {},
   "source": [
    "### Basic Image Augmentation using PIL Image"
   ]
  },
  {
   "cell_type": "code",
   "execution_count": 35,
   "metadata": {},
   "outputs": [],
   "source": [
    "import cv2\n",
    "import numpy as np\n",
    "from PIL import ImageFont, ImageDraw, Image\n",
    "\n",
    "im_name = \"data/selected_fashion_bl/t_shirt/oblong15.jpg\"\n",
    "img = cv2.imread(im_name)\n",
    "img = Image.fromarray(img)\n",
    "\n",
    "draw = ImageDraw.Draw(img)\n",
    "\n",
    "# use a truetype font\n",
    "font = ImageFont.truetype(\"font/arial.ttf\", 100)\n",
    "\n",
    "draw.text((10, 25), \"world\", font=font)\n",
    "\n",
    "img = np.array(img)\n",
    "name = im_name.split('/')[-1]\n",
    "name = \"labelled_image/\" + name\n",
    "# cv2.imwrite(name, img)"
   ]
  },
  {
   "cell_type": "code",
   "execution_count": 36,
   "metadata": {},
   "outputs": [
    {
     "data": {
      "text/plain": [
       "<matplotlib.image.AxesImage at 0x7f7be3ae6d30>"
      ]
     },
     "execution_count": 36,
     "metadata": {},
     "output_type": "execute_result"
    }
   ],
   "source": [
    "import matplotlib.pyplot as plt\n",
    "# %matplotlib inline  \n",
    "\n",
    "# draw image\n",
    "fig = plt.figure()\n",
    "ax1 = fig.add_axes((0.1, 0.2, 0.8, 0.7))\n",
    "ax1.set_title(im_name)\n",
    "plt.imshow(img)\n"
   ]
  },
  {
   "cell_type": "markdown",
   "metadata": {},
   "source": [
    "### Convert image from PNG to JPG\n",
    "\n",
    "[Note] some of Bukalapak's fashion image can't be opened in PNG, so it must be converted to JPG"
   ]
  },
  {
   "cell_type": "code",
   "execution_count": 37,
   "metadata": {},
   "outputs": [],
   "source": [
    "# import glob\n",
    "# import os\n",
    "# import shutil\n",
    "# import sys\n",
    "\n",
    "# # import list of images\n",
    "# DATA_DIR = \"data/\"\n",
    "# im_names = glob.glob(os.path.join(DATA_DIR, 'selected_fashion_bl/', '*/*.png'))\n",
    "\n",
    "\n",
    "# for im_name in im_names:\n",
    "# #     print(im_name)\n",
    "#     img = cv2.imread(im_name)\n",
    "    \n",
    "#     name = im_name.split('.')[0]\n",
    "#     name = name + \".jpg\"\n",
    "    \n",
    "#     cv2.imwrite(name, img)"
   ]
  },
  {
   "cell_type": "markdown",
   "metadata": {},
   "source": [
    "### Create Text Augmentation from an Image"
   ]
  },
  {
   "cell_type": "code",
   "execution_count": 1,
   "metadata": {},
   "outputs": [],
   "source": [
    "import glob\n",
    "import os\n",
    "import shutil\n",
    "import sys\n",
    "from PIL import ImageFont, ImageDraw, Image\n",
    "import random\n",
    "\n",
    "def augmentText(im_name, text) :\n",
    "#     im_name = \"data/selected_fashion_bl/t_shirt/oblong15.jpg\"\n",
    "    image = Image.open(im_name)\n",
    "    draw = ImageDraw.Draw(image)\n",
    "    fontsize = 1  # starting font size\n",
    "\n",
    "    # portion of image width you want text width to be\n",
    "    img_fraction = float(random.randint(25, 50)) / 100.0\n",
    "    # print(img_fraction)\n",
    "\n",
    "    list_name = glob.glob(os.path.join('font/', '*.ttf')) + glob.glob(os.path.join('font/', '*.otf'))\n",
    "    # list_name = [\"font/Chunkfive.otf\", \"font/arial.ttf\" \"font/Rubik-Black.ttf\", \"font/Monsterrat-.ttf\"]\n",
    "    list_color = [\"orange\", \"black\", \"blue\", \"green\", \"violet\"]\n",
    "\n",
    "    font_name = random.choice(list_name)\n",
    "    font_color = random.choice(list_color)\n",
    "\n",
    "    font = ImageFont.truetype(font_name, fontsize)\n",
    "    while font.getsize(text)[0] < img_fraction*image.size[0]:\n",
    "        # iterate until the text size is just larger than the criteria\n",
    "        fontsize += 1\n",
    "        font = ImageFont.truetype(font_name, fontsize)\n",
    "\n",
    "    # optionally de-increment to be sure it is less than criteria\n",
    "    fontsize -= 1\n",
    "    font = ImageFont.truetype(font_name, fontsize)\n",
    "\n",
    "\n",
    "    w,h = font.getsize(text)\n",
    "\n",
    "    padding = 5\n",
    "    \n",
    "#     print(\"DEBUG\")\n",
    "#     print(text)\n",
    "#     print(image.size)\n",
    "#     print((w, h))\n",
    "#     print((padding, image.size[0]- w - padding))\n",
    "#     print((padding, image.size[1] - h - padding))\n",
    "    \n",
    "    top_left = (random.randint(padding, image.size[0]- w - padding), random.randint(padding, image.size[1] - h - padding))\n",
    "    rectangle = ((top_left[0] - padding, top_left[1] - padding), (w + top_left[0] + padding, h + top_left[1] + padding))\n",
    "    if random.randint(40, 100) > 50 :    \n",
    "        draw.rectangle(rectangle, fill=font_color)\n",
    "    draw.text(top_left, text, font=font) # put the text on the image\n",
    "\n",
    "    return image, rectangle\n",
    "\n",
    "def saveImage(image, directory, name):\n",
    "    name = directory + \"/\" + name\n",
    "    image.save(name)\n",
    "\n",
    "def saveAnnotation(rectangle, directory, im_name, annotation):\n",
    "    filename = directory + \"/\" + im_name.split('.')[0] + \".txt\"\n",
    "    f = open(filename,\"w+\")\n",
    "    f.write(\"%d,%d,%d,%d,%s\" % (rectangle[0][0], rectangle[0][1], rectangle[1][0], rectangle[1][1], annotation))\n",
    "    f.close()\n",
    "\n",
    "im_name = \"data/selected_fashion_bl/t_shirt/oblong15.jpg\"\n",
    "text = \"Hello World!\"\n",
    "image, rectangle = augmentText(im_name, text)\n",
    "name = im_name.split('/')[-1]\n",
    "folder = im_name.split('/')[-2]\n",
    "name = folder + \"/\" + name\n",
    "saveImage(image, \"labelled_image\", name)\n",
    "saveAnnotation(rectangle, \"labelled_image\", name, text)"
   ]
  },
  {
   "cell_type": "markdown",
   "metadata": {},
   "source": [
    "### Create Text Augmentation from Selected Directory"
   ]
  },
  {
   "cell_type": "code",
   "execution_count": 39,
   "metadata": {},
   "outputs": [],
   "source": [
    "import glob\n",
    "import os\n",
    "import shutil\n",
    "import sys\n",
    "\n",
    "# import list of images\n",
    "DATA_DIR = \"/home/mhilmiasyrofi/ocr/notebook/data/\"\n",
    "im_names = glob.glob(os.path.join(DATA_DIR, 'selected_fashion_bl/*/*.png')) \\\n",
    "        + glob.glob(os.path.join(DATA_DIR, 'selected_fashion_bl/*/*.jpg'))\n",
    "\n",
    "for im_name in im_names:\n",
    "    im_name = \"data/selected_fashion_bl/t_shirt/oblong15.jpg\"\n",
    "    text = \"Hello World!\"\n",
    "    image, rectangle = augmentText(im_name, text)\n",
    "    name = im_name.split('/')[-1]\n",
    "    folder = im_name.split('/')[-2]\n",
    "    name = folder + \"/\" + name\n",
    "    saveImage(image, \"labelled_image\", name)\n",
    "    saveAnnotation(rectangle, \"labelled_image\", name, text)"
   ]
  },
  {
   "cell_type": "markdown",
   "metadata": {},
   "source": [
    "### Read Corpus \n",
    "The data is Bukalapak Product Description Data"
   ]
  },
  {
   "cell_type": "code",
   "execution_count": 3,
   "metadata": {},
   "outputs": [],
   "source": [
    "import json\n",
    "import string\n",
    "from pprint import pprint\n",
    "\n",
    "\n",
    "def readBukalapakData(filename) :\n",
    "    with open(filename) as f:\n",
    "        data = json.load(f)\n",
    "\n",
    "    texts = []\n",
    "\n",
    "    table = str.maketrans({key: None for key in string.punctuation})\n",
    "\n",
    "    for d in data :\n",
    "        text = d['description']\n",
    "        text = text.translate(table)\n",
    "        text = text.replace('\\n', ' ')\n",
    "        text = text.replace('\\r', ' ')\n",
    "        for t in text.split(' '):\n",
    "            if len(t) >= 5:\n",
    "                texts.append(t)\n",
    "                \n",
    "    return texts\n",
    "\n",
    "texts = readBukalapakData('corpus/fashion.json')\n",
    "            \n",
    "# print(texts)"
   ]
  },
  {
   "cell_type": "markdown",
   "metadata": {},
   "source": [
    "## Augment Text using Corpus Data"
   ]
  },
  {
   "cell_type": "code",
   "execution_count": 4,
   "metadata": {},
   "outputs": [],
   "source": [
    "import glob\n",
    "import os\n",
    "import shutil\n",
    "import sys\n",
    "\n",
    "# import list of images\n",
    "DATA_DIR = \"/home/mhilmiasyrofi/ocr/notebook/data/\"\n",
    "im_names = glob.glob(os.path.join(DATA_DIR, 'selected_fashion_bl/*/*.png')) \\\n",
    "        + glob.glob(os.path.join(DATA_DIR, 'selected_fashion_bl/*/*.jpg'))\n",
    "\n",
    "\n",
    "texts = readBukalapakData('corpus/fashion.json')\n",
    "random.shuffle(texts)\n",
    "i = 0\n",
    "\n",
    "for im_name in im_names:\n",
    "    image, rectangle = augmentText(im_name, texts[i])\n",
    "    name = im_name.split('/')[-1]\n",
    "    folder = im_name.split('/')[-2]\n",
    "    name = folder + \"/\" + name\n",
    "    saveImage(image, \"labelled_image\", name)\n",
    "    saveAnnotation(rectangle, \"labelled_image\", name, texts[i])\n",
    "    i += 1"
   ]
  }
 ],
 "metadata": {
  "kernelspec": {
   "display_name": "Python 3",
   "language": "python",
   "name": "python3"
  },
  "language_info": {
   "codemirror_mode": {
    "name": "ipython",
    "version": 3
   },
   "file_extension": ".py",
   "mimetype": "text/x-python",
   "name": "python",
   "nbconvert_exporter": "python",
   "pygments_lexer": "ipython3",
   "version": "3.5.2"
  }
 },
 "nbformat": 4,
 "nbformat_minor": 2
}
